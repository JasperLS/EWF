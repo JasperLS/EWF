{
  "nbformat": 4,
  "nbformat_minor": 0,
  "metadata": {
    "colab": {
      "provenance": [],
      "include_colab_link": true
    },
    "kernelspec": {
      "display_name": "Python 3",
      "name": "python3"
    }
  },
  "cells": [
    {
      "cell_type": "markdown",
      "metadata": {
        "id": "view-in-github",
        "colab_type": "text"
      },
      "source": [
        "<a href=\"https://colab.research.google.com/github/JasperLS/EWF/blob/main/EWF_Python_Introduction_Course.ipynb\" target=\"_parent\"><img src=\"https://colab.research.google.com/assets/colab-badge.svg\" alt=\"Open In Colab\"/></a>"
      ]
    },
    {
      "cell_type": "markdown",
      "metadata": {
        "id": "5fCEDCU_qrC0"
      },
      "source": [
        "#**EWF - Python Introduction Course**\n",
        "\n",
        "Welcome to our EWF Python Introduction Course. The following tasks will help you understand and use Python. Python can be an extremely valuable tool for EWF, your Bachelor thesis or any other projects.\n",
        "\n",
        "Please rease and answer all tasks carefully. \n",
        "Whenever you encounter a \"**...**\" please try to replace it with your own code. **This is task-based learning - you will have to google a lot!** \n",
        "\n",
        "\n",
        "Good luck!\n"
      ]
    },
    {
      "cell_type": "markdown",
      "metadata": {
        "id": "GJBs_flRovLc"
      },
      "source": [
        "##**First Steps**\n",
        " "
      ]
    },
    {
      "cell_type": "markdown",
      "metadata": {
        "id": "p4NFErGadias"
      },
      "source": [
        "**Print Function**\n",
        "\n",
        "By using the print statement, we're able to output text. \n",
        "\n",
        "*Please run the following code*:"
      ]
    },
    {
      "cell_type": "code",
      "metadata": {
        "id": "gJr_9dXGpJ05"
      },
      "source": [
        "print ('Hello World')"
      ],
      "execution_count": null,
      "outputs": []
    },
    {
      "cell_type": "markdown",
      "metadata": {
        "id": "L3qFPIIqrc77"
      },
      "source": [
        "<img src=\"https://miro.medium.com/max/1250/1*iNw33pBEYZIAoE9oHdhLLw.jpeg\" width=500 height=330>"
      ]
    },
    {
      "cell_type": "markdown",
      "metadata": {
        "id": "2fhs6GZ4qFMx"
      },
      "source": [
        "<strong>Basic Operations</strong>\n",
        "\n",
        "With Python, you can easily do some calculations. \n",
        "\n",
        "*Tap around to perform an addition with a result of 6:*"
      ]
    },
    {
      "cell_type": "code",
      "metadata": {
        "id": "c6i-78HEXGNu"
      },
      "source": [
        "3 "
      ],
      "execution_count": null,
      "outputs": []
    },
    {
      "cell_type": "markdown",
      "metadata": {
        "id": "8QlK460xXJqJ"
      },
      "source": [
        "*Use parantheses to determine which operations are performed first - try to get 40:*"
      ]
    },
    {
      "cell_type": "code",
      "metadata": {
        "id": "-gE-Ez1qtyIA"
      },
      "source": [
        "4*4+6"
      ],
      "execution_count": null,
      "outputs": []
    },
    {
      "cell_type": "markdown",
      "metadata": {
        "id": "bX2Xoej0WmJn"
      },
      "source": [
        "*Try to divide by 2 to get a result of 2.00*\n",
        "\n",
        "**<strong><font color='blue'> Side Note:** we call 2.00 a float variable, while 2 is called an integer variable. Despite seemingly being the same, Python sees them as different datatypes which for example leads to differnt memory needs.</font></strong>"
      ]
    },
    {
      "cell_type": "code",
      "metadata": {
        "id": "4ty9qsqVWVq7"
      },
      "source": [
        "4"
      ],
      "execution_count": null,
      "outputs": []
    },
    {
      "cell_type": "markdown",
      "metadata": {
        "id": "Wt_Y_ZWA9miH"
      },
      "source": [
        "**Comments**\n",
        "\n",
        "You can comment your code, to explain something for later reference.\n",
        "\n",
        "*Please turn \"This is just a comment\" into a proper comment.*"
      ]
    },
    {
      "cell_type": "code",
      "metadata": {
        "id": "ssxN9tka9-2o"
      },
      "source": [
        "8 + 8\n",
        "This is just a comment"
      ],
      "execution_count": null,
      "outputs": []
    },
    {
      "cell_type": "markdown",
      "metadata": {
        "id": "4i-XuhKW3owN"
      },
      "source": [
        "**Storing Values**\n",
        "\n",
        "You can store values in variables.\n",
        "\n",
        "*Please complete the code to generate 40 as an output.*"
      ]
    },
    {
      "cell_type": "code",
      "metadata": {
        "id": "T29nLva63oG7"
      },
      "source": [
        "... = 10\n",
        "\n",
        "... = ... * ...\n",
        "\n",
        "print(...)"
      ],
      "execution_count": null,
      "outputs": []
    },
    {
      "cell_type": "markdown",
      "metadata": {
        "id": "OSqSFbg6jRw7"
      },
      "source": [
        "##**Data Types**"
      ]
    },
    {
      "cell_type": "markdown",
      "metadata": {
        "id": "KA7WEmmTjbRl"
      },
      "source": [
        "If Python handles data, it has to somehow turn it into 1s and 0s. Depending on the type of data, Python uses different internal representations. It is therefore very important, to always make sure your data has the right data type."
      ]
    },
    {
      "cell_type": "markdown",
      "metadata": {
        "id": "fxXZEWORXump"
      },
      "source": [
        "**Integers**\n",
        "\n",
        "Integers are whole numbers like: \n",
        "\n",
        "- 5 \n",
        "- 3\n"
      ]
    },
    {
      "cell_type": "markdown",
      "metadata": {
        "id": "SpL66XSAV3PW"
      },
      "source": [
        "**Floats**\n",
        "\n",
        "Numbers that aren't integers are represented as floats in Python (\"a floating point number\"). Some examples are: \n",
        "- 0.8\n",
        "- -5.346\n",
        "\n",
        "How to create a float? \n",
        "By entering a number with a decimal point, or by using operations such as division on integers as well as operations on a float and an integer.\n",
        "\n",
        "*Please build a float dividing 12 by 4 and try to convert it back into an integer (should be 3 not 3.0):*"
      ]
    },
    {
      "cell_type": "code",
      "metadata": {
        "id": "pN81xZjUXB5Z"
      },
      "source": [
        "# create float\n",
        "print()\n",
        "# turn it into an integer\n",
        "print()"
      ],
      "execution_count": null,
      "outputs": []
    },
    {
      "cell_type": "markdown",
      "metadata": {
        "id": "VprZLg-EY5s-"
      },
      "source": [
        "**Strings**\n",
        "\n",
        "You have to use a string if you want to use text in Python. It's one of the basic things that store text like: \n",
        "\n",
        "- Python is fun\n",
        "- I love Data Science\n",
        "\n",
        "How to create a string? By entering text between two single or double quotation marks.\n",
        "\n",
        "*Run the code to create a string:*"
      ]
    },
    {
      "cell_type": "code",
      "metadata": {
        "id": "98w-iUSGZ6ko"
      },
      "source": [
        "\"Python is fun\""
      ],
      "execution_count": null,
      "outputs": []
    },
    {
      "cell_type": "markdown",
      "metadata": {
        "id": "VeQ8nTgbbyur"
      },
      "source": [
        "*What's wrong with the following string? Please correct it so that the type is 'str' and there is no error message!*"
      ]
    },
    {
      "cell_type": "code",
      "metadata": {
        "id": "zFxpt_tYaiPd"
      },
      "source": [
        "type('Lisa's brother likes good food.')"
      ],
      "execution_count": null,
      "outputs": []
    },
    {
      "cell_type": "markdown",
      "metadata": {
        "id": "We12AcbmdcPU"
      },
      "source": [
        "**Booleans & Comparisons**\n",
        "\n",
        "You've already learned about integers, floats and strings. In Python, another type is the Boolean type. It has two values: True and False. By comparing values (using the equal operator ==), you can create Booleans. \n",
        "\n",
        "*Please define my_boolean as True:*  "
      ]
    },
    {
      "cell_type": "code",
      "metadata": {
        "id": "S7bs7aEXgjML"
      },
      "source": [
        "my_boolean = \n",
        "print(my_boolean)"
      ],
      "execution_count": null,
      "outputs": []
    },
    {
      "cell_type": "markdown",
      "metadata": {
        "id": "G-Uv7DJigzb9"
      },
      "source": [
        "*Please compare two numbers and see if you get the \"True\" statement:*"
      ]
    },
    {
      "cell_type": "code",
      "metadata": {
        "id": "As8PeDsQnU3P"
      },
      "source": [
        "..."
      ],
      "execution_count": null,
      "outputs": []
    },
    {
      "cell_type": "markdown",
      "metadata": {
        "id": "crYwcDotoYtw"
      },
      "source": [
        "In Python, you can also use operators (> and <) to determine whether one number (float or integer) is smaller than or greater than another.\n",
        "\n",
        "*Tap around (change the ...) and generate one True as well as one False statement:*"
      ]
    },
    {
      "cell_type": "code",
      "metadata": {
        "id": "RV-FHVego3uL"
      },
      "source": [
        "24 ... 16"
      ],
      "execution_count": null,
      "outputs": []
    },
    {
      "cell_type": "markdown",
      "metadata": {
        "id": "UdRyKR44dcNI"
      },
      "source": [
        "##**Control Structures**\n"
      ]
    },
    {
      "cell_type": "markdown",
      "metadata": {
        "id": "AX8KEqV7d2jR"
      },
      "source": [
        "**if&else statement**"
      ]
    },
    {
      "cell_type": "markdown",
      "metadata": {
        "id": "hdtFz5UXptLZ"
      },
      "source": [
        "<img src=\"https://www.tutorialspoint.com/python/images/if_else_statement.jpg\" width=300 height=300>\n",
        "\n",
        "*Now it's your turn! Change the following code (...) to generate \"else\":*"
      ]
    },
    {
      "cell_type": "code",
      "metadata": {
        "id": "E6xzkR1ukfO0"
      },
      "source": [
        "if 2 + ... == 4 ...\n",
        "  if 3 * ... == 9 ...\n",
        "    print (\"if\")\n",
        "  else: \n",
        "    print (\"else\")"
      ],
      "execution_count": null,
      "outputs": []
    },
    {
      "cell_type": "markdown",
      "metadata": {
        "id": "datsEgDB4iXQ"
      },
      "source": [
        "**<strong><font color='blue'> Side Note:**  Indentations are very important in Python, as they structure your code. </font></strong>\n",
        "\n",
        "<img src=\"https://i.redd.it/wk843smkri441.jpg\" width=500 height=300>"
      ]
    },
    {
      "cell_type": "markdown",
      "metadata": {
        "id": "40mdnbNieJTh"
      },
      "source": [
        "**Boolean Logic**\n",
        "\n",
        "Boolean Logic is used to make more complicated conditions for if statements that rely on more than one condition. The Boolean operators are **and, or and not**. "
      ]
    },
    {
      "cell_type": "markdown",
      "metadata": {
        "id": "OdysNNSonWA0"
      },
      "source": [
        "*Tap around to get a false statement:*"
      ]
    },
    {
      "cell_type": "code",
      "metadata": {
        "id": "7htGUSgym9KX"
      },
      "source": [
        "print ( 2 < 3 and 2 ... 6 )"
      ],
      "execution_count": null,
      "outputs": []
    },
    {
      "cell_type": "markdown",
      "metadata": {
        "id": "dHpbmcEBn_34"
      },
      "source": [
        "*Change and correct the following code to print \"Hi\":*"
      ]
    },
    {
      "cell_type": "code",
      "metadata": {
        "id": "XlAjNuIqoKgs"
      },
      "source": [
        "age = ... \n",
        "money = 400 \n",
        "if age > 20 ... money > 50 ...\n",
        "  ...(\"Hi\"..."
      ],
      "execution_count": null,
      "outputs": []
    },
    {
      "cell_type": "markdown",
      "metadata": {
        "id": "0JOau1ITeOBp"
      },
      "source": [
        "**Lists**\n",
        "\n",
        "Lists are used to store multiple items. By using square brackets with commas separating items, you can create a list. \n",
        "\n",
        "*Try to print the first argument of the list (\"Hello\").*"
      ]
    },
    {
      "cell_type": "code",
      "metadata": {
        "id": "zjovDwhNlYFn"
      },
      "source": [
        "words =  [\"Hello\", \"world\", \"!\"]\n",
        "print (words...)"
      ],
      "execution_count": null,
      "outputs": []
    },
    {
      "cell_type": "markdown",
      "metadata": {
        "id": "F8VgN4fgrdDZ"
      },
      "source": [
        "*Change the code to create a list and print its 3rd element:*"
      ]
    },
    {
      "cell_type": "code",
      "metadata": {
        "id": "d5rWZJjOrgwC"
      },
      "source": [
        "the_list = ... 33, 66, 99 ...\n",
        "...(the_list[...])"
      ],
      "execution_count": null,
      "outputs": []
    },
    {
      "cell_type": "markdown",
      "metadata": {
        "id": "UEmilTRFecFV"
      },
      "source": [
        "**Loops**\n",
        "\n",
        "A for loop is used to repeat a block of code multiple times. It is common to use the for loop when the number of iterations is fixed (e.g. iterating over a fixed list of items in a shopping list), but there are other loops as well.\n",
        "\n",
        "*Change the code below to print all elements of your list:*"
      ]
    },
    {
      "cell_type": "code",
      "metadata": {
        "id": "hrSVVOz2Uzm9"
      },
      "source": [
        "your_list = ['a','b','c','d']\n",
        "\n",
        "for ... ... ... :\n",
        "  print (...)"
      ],
      "execution_count": null,
      "outputs": []
    },
    {
      "cell_type": "markdown",
      "metadata": {
        "id": "XBlj6_t8efo8"
      },
      "source": [
        "**Range**\n",
        "\n",
        "The range() function returns a sequence of numbers. By default, it starts from 0, increments by 1 and stops before the specified number. \n",
        "\n",
        "*The code below should generate a list containing all of the integers, up to 10 (not incl.). Please change the following code (...):*"
      ]
    },
    {
      "cell_type": "code",
      "metadata": {
        "id": "jeR4mJGUlad7"
      },
      "source": [
        "numbers = list(...(10))\n",
        "\n",
        "print(...)"
      ],
      "execution_count": null,
      "outputs": []
    },
    {
      "cell_type": "markdown",
      "metadata": {
        "id": "OwuxHmxllTwN"
      },
      "source": [
        "##**Functions & Modules**"
      ]
    },
    {
      "cell_type": "markdown",
      "metadata": {
        "id": "EMtDBH2Xe6kR"
      },
      "source": [
        "**Functions**\n",
        "\n",
        "In addition to using pre-defined functions like range() or print(), you can create your own functions by using the def statement. You have to define functions before they are called! This is especially useful, if you want to do similar operations again and again.\n",
        "\n",
        "*Try for yourself and build a function \"quattro_hello\" which prints \"hello\" four times.*\n"
      ]
    },
    {
      "cell_type": "code",
      "metadata": {
        "id": "pHnpri3gHXV8"
      },
      "source": [
        "def ...:\n",
        "  # build a proper loop to print your output two times \n",
        "  print (...)\n"
      ],
      "execution_count": null,
      "outputs": []
    },
    {
      "cell_type": "markdown",
      "metadata": {
        "id": "aDR8mvcz-q1e"
      },
      "source": [
        "*Now call your function and see if it prints 'hello' three times:*"
      ]
    },
    {
      "cell_type": "code",
      "metadata": {
        "id": "Z8N9zB0V8jq7"
      },
      "source": [
        "double_hello()"
      ],
      "execution_count": null,
      "outputs": []
    },
    {
      "cell_type": "markdown",
      "metadata": {
        "id": "K5e3PBnT9G0o"
      },
      "source": [
        "**<strong><font color='blue'> Side Note:**  Python can take any form of object as input to a function AND (almost) everything in Python is an object !! </font></strong>\n",
        "\n",
        "\n",
        "\n",
        "\n",
        "\n",
        "<img src=\"https://miro.medium.com/max/625/1*mPpNrH_b3DEd0HiljDqMkw.png\" >\n",
        "\n"
      ]
    },
    {
      "cell_type": "markdown",
      "metadata": {
        "id": "-caDGUcZLO9j"
      },
      "source": [
        "It is also possible to define a function that takes an argument. \n",
        "\n",
        "*Fill in the ... to define a function that prints whether the first given paramter is greater or equal than the second paramter - or not:*"
      ]
    },
    {
      "cell_type": "code",
      "metadata": {
        "id": "OixS1ZvgAPJk"
      },
      "source": [
        "def compare(x, y):\n",
        "  if ...:\n",
        "    print(...)\n",
        "  else:\n",
        "    print(...)\n",
        "\n",
        "print(compare(...,...))"
      ],
      "execution_count": null,
      "outputs": []
    },
    {
      "cell_type": "markdown",
      "metadata": {
        "id": "lks5vCIQgFBR"
      },
      "source": [
        "**Modules & Libraries**\n",
        "\n",
        "Modules refer to a file containing Python functions. A file containing Python code, for example: example.py, is called a module, and its module name would be example. The basic way to use a mdule is to add import *some_module_name* at the top of your code, and then using *some_module_name*.var to access functions and values with the name var in the module. This allows you to access complex functions programmed by other people.\n",
        " \n"
      ]
    },
    {
      "cell_type": "markdown",
      "metadata": {
        "id": "pvTTfdOUm96f"
      },
      "source": [
        "*Please import only the pi constant from the respective module and print pi:*"
      ]
    },
    {
      "cell_type": "code",
      "metadata": {
        "id": "Mfxt3G-Ym-wd"
      },
      "source": [
        "from ... import ...\n",
        "\n",
        "print(...)"
      ],
      "execution_count": null,
      "outputs": []
    },
    {
      "cell_type": "markdown",
      "metadata": {
        "id": "wFCVUGx_Bqef"
      },
      "source": [
        "<img src =\"https://i.redd.it/37xqk9umycn31.jpg\" width=500 height=400>"
      ]
    },
    {
      "cell_type": "markdown",
      "source": [
        "##**Pandas - Working with tables**"
      ],
      "metadata": {
        "id": "45mzJt_37Ce9"
      }
    },
    {
      "cell_type": "markdown",
      "source": [
        "Please import the pandas module as pd"
      ],
      "metadata": {
        "id": "o_tzrVY1LZZZ"
      }
    },
    {
      "cell_type": "code",
      "source": [
        "..."
      ],
      "metadata": {
        "id": "1o8eaO5TLYRH"
      },
      "execution_count": null,
      "outputs": []
    },
    {
      "cell_type": "markdown",
      "source": [
        "**Data upload**\n",
        "\n",
        "Please upload dataset using the ![grafik.png](data:image/png;base64,iVBORw0KGgoAAAANSUhEUgAAABcAAAASCAYAAACw50UTAAAAoklEQVQ4jWP4T0PAgC7w5+2D/7/uHMLA/769p8zwP28f/H9RyIUVv+m2INkCFMM/b2/BafiLQq7/r5s0/r+b4o4Vf1pfSpzhb7rN/7+d4kY0ftNt/v9FIdf/H5c2ETb85+2DJHn/5+2D/18Ucv3/vL1l1PBRw6lp+NeDU7AWAbjw14NTCBuOL/sTg/+8fYDbcJgFP28fJBmjG4zVcGqCoWs4ACyC6jqlDexRAAAAAElFTkSuQmCC)-button on the left.\n",
        "\n",
        "![colab.png](data:image/png;base64,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)\n",
        "\n",
        "The following code will load the dataset if uploaded correctly. Typically, a table is called a dataframe or df for short."
      ],
      "metadata": {
        "id": "PUMYHFUO7M3p"
      }
    },
    {
      "cell_type": "code",
      "source": [
        "df = pd.read_csv('./data.csv',index_col=0)"
      ],
      "metadata": {
        "id": "Jgr1e1lJ7HM5"
      },
      "execution_count": 4,
      "outputs": []
    },
    {
      "cell_type": "markdown",
      "source": [
        "Take a look at the top 5 rows of the dataframe"
      ],
      "metadata": {
        "id": "ZVJe2MEC9jQu"
      }
    },
    {
      "cell_type": "code",
      "source": [
        "..."
      ],
      "metadata": {
        "id": "BsgS496fLn72"
      },
      "execution_count": null,
      "outputs": []
    },
    {
      "cell_type": "markdown",
      "source": [
        "Take a look at the 3rd row only"
      ],
      "metadata": {
        "id": "su7NAJpWLiV2"
      }
    },
    {
      "cell_type": "code",
      "source": [
        "..."
      ],
      "metadata": {
        "id": "Q28yG97TLh7I"
      },
      "execution_count": null,
      "outputs": []
    },
    {
      "cell_type": "markdown",
      "source": [
        "Filter for all the rows with Geschlecht == \"M\""
      ],
      "metadata": {
        "id": "k9iwJ_nxLvAi"
      }
    },
    {
      "cell_type": "code",
      "source": [
        "..."
      ],
      "metadata": {
        "id": "LNAXqHiXLuWo"
      },
      "execution_count": null,
      "outputs": []
    },
    {
      "cell_type": "markdown",
      "source": [
        "How often does each gender appear in the dataset? Use a appropriate function to find out."
      ],
      "metadata": {
        "id": "9lUPjPo0L0Cs"
      }
    },
    {
      "cell_type": "code",
      "source": [
        "..."
      ],
      "metadata": {
        "id": "P3CpP0QuLhMZ"
      },
      "execution_count": null,
      "outputs": []
    },
    {
      "cell_type": "markdown",
      "source": [
        "So far \"Einkommen\" is treated as a nominal variable - how can we turn it into a categorical one?"
      ],
      "metadata": {
        "id": "MnpYkJcoMrQ3"
      }
    },
    {
      "cell_type": "code",
      "source": [
        "categories=[\"< 1000\", \"1000 - < 2000\", \"2000 - < 4000\", \"4000 - < 6000\", \"> 6000\"]\n",
        "..."
      ],
      "metadata": {
        "id": "-yd7hF2YMdyt"
      },
      "execution_count": 7,
      "outputs": []
    },
    {
      "cell_type": "markdown",
      "source": [
        "Pandas can also help visualizing data.Try to create a normal bar plot for age."
      ],
      "metadata": {
        "id": "A9BOPSpKNTaN"
      }
    },
    {
      "cell_type": "code",
      "source": [
        "..."
      ],
      "metadata": {
        "id": "OdketXagNZqO"
      },
      "execution_count": null,
      "outputs": []
    },
    {
      "cell_type": "markdown",
      "source": [
        "Now, can we turn this into a histogram, to get an idea about the age distribution in our dataset?"
      ],
      "metadata": {
        "id": "3_C9rDCtNeBj"
      }
    },
    {
      "cell_type": "code",
      "source": [
        "..."
      ],
      "metadata": {
        "id": "ax9ZcMjTNdYi"
      },
      "execution_count": null,
      "outputs": []
    },
    {
      "cell_type": "markdown",
      "source": [
        "<img src=\"https://miro.medium.com/max/828/0*hHVINI5TGJB6jPKN.jpg\" width=500 height=300>"
      ],
      "metadata": {
        "id": "McNwRx4pOQyA"
      }
    },
    {
      "cell_type": "markdown",
      "source": [
        "##**End of Python Introduction - Congratulations ¯\\\\\\_(ツ)\\_/¯**\n"
      ],
      "metadata": {
        "id": "B725Z4XsOYux"
      }
    },
    {
      "cell_type": "markdown",
      "source": [
        "You have reached the end of this course. Feel free to play aound with some of the code snippets. You cannnot break anything in Colab and you can reload at any point.\n",
        "\n",
        "If you have any questions left, ask Google or your excercise instructor."
      ],
      "metadata": {
        "id": "l734kc80Os-1"
      }
    }
  ]
}