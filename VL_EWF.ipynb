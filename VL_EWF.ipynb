{
  "nbformat": 4,
  "nbformat_minor": 0,
  "metadata": {
    "colab": {
      "name": "VL_EWF.ipynb",
      "private_outputs": true,
      "provenance": [],
      "collapsed_sections": []
    },
    "kernelspec": {
      "name": "python3",
      "display_name": "Python 3"
    }
  },
  "cells": [
    {
      "cell_type": "markdown",
      "metadata": {
        "id": "f7x4uGmDrsIw"
      },
      "source": [
        "## **t-Test: Vorbereitung**\n"
      ]
    },
    {
      "cell_type": "code",
      "metadata": {
        "id": "SblzJSiAOe0K"
      },
      "source": [
        "!pip install pingouin\n",
        "import pandas as pd\n",
        "import numpy as np\n",
        "import scipy\n",
        "from scipy import stats"
      ],
      "execution_count": null,
      "outputs": []
    },
    {
      "cell_type": "code",
      "metadata": {
        "id": "QylM3ma4OhZ7"
      },
      "source": [
        "df = pd.read_csv('https://raw.githubusercontent.com/JasperLS/EWF/main/datasets/VL_Kundenzufriedenheit.csv',index_col=0)"
      ],
      "execution_count": null,
      "outputs": []
    },
    {
      "cell_type": "code",
      "metadata": {
        "id": "7vNz1GdNOoJs"
      },
      "source": [
        "df"
      ],
      "execution_count": null,
      "outputs": []
    },
    {
      "cell_type": "markdown",
      "metadata": {
        "id": "douEHLO2XMiB"
      },
      "source": [
        "#**Mittelwerttest (t-Test): Vergleich mit einem festen Wert**"
      ]
    },
    {
      "cell_type": "markdown",
      "metadata": {
        "id": "M_ibtXQHZtsr"
      },
      "source": [
        "Berechnung mit dem Package scipy.stats"
      ]
    },
    {
      "cell_type": "code",
      "metadata": {
        "id": "_rElNSONXeHD"
      },
      "source": [
        "mu_kz = 80\n",
        "n = len(df)\n",
        "t_m = stats.ttest_ind(df['Zufriedenheit_alt'], [mu_kz]*n,equal_var=True)\n",
        "print('Teststatistik t\\t=',t_m.statistic.round(2))\n",
        "print('p-Wert\\t\\t=',t_m.pvalue.round(2))\n",
        "\n",
        "#Bestimmung kritischer Wert\n",
        "signifikanzniveau = 0.05\n",
        "t_kritisch = scipy.stats.t.ppf(1-signifikanzniveau/2, n-1)\n",
        "print('C\\t\\t=',t_kritisch.round(2))"
      ],
      "execution_count": null,
      "outputs": []
    },
    {
      "cell_type": "markdown",
      "metadata": {
        "id": "8DXXhGnVZx_b"
      },
      "source": [
        "Berechnung durch Formeln"
      ]
    },
    {
      "cell_type": "code",
      "metadata": {
        "id": "MBEra0VPYNi4"
      },
      "source": [
        "X_mean = df['Zufriedenheit_alt'].mean()\n",
        "print('X_mean\\t\\t\\t=',round(X_mean,2))\n",
        "S = df['Zufriedenheit_alt'].std(ddof=1)\n",
        "print('Standardabweichung\\t= ',round(S,2),'\\n')\n",
        "\n",
        "#Berechnung Teststatistik (empirischer Wert)\n",
        "t = (X_mean-mu_kz)/S*np.sqrt(n)\n",
        "print('t_empirisch\\t\\t= ',t.round(2))\n",
        "\n",
        "#Bestimmung kritischer Wert\n",
        "signifikanzniveau = 0.05\n",
        "t_kritisch = scipy.stats.t.ppf(1-signifikanzniveau/2, n-1)\n",
        "print('C\\t\\t\\t= ',t_kritisch.round(2))"
      ],
      "execution_count": null,
      "outputs": []
    },
    {
      "cell_type": "markdown",
      "metadata": {
        "id": "FYfpKINEkA6_"
      },
      "source": [
        "#**Mittelwerttest (t-Test): Untersuchung einer Veränderung**"
      ]
    },
    {
      "cell_type": "markdown",
      "metadata": {
        "id": "OS6ot-TKnAC3"
      },
      "source": [
        "Berechnung mit dem Package scipy.stats"
      ]
    },
    {
      "cell_type": "code",
      "metadata": {
        "id": "8MgYbjS8mE2f"
      },
      "source": [
        "mu_kz = 80\n",
        "n = len(df)\n",
        "t_m = scipy.stats.ttest_ind(df['Zufriedenheit_neu']-df['Zufriedenheit_alt'],[0]*n,equal_var=True)\n",
        "print('Teststatistik t\\t=',round(t_m.statistic,2))\n",
        "print('p-Wert\\t\\t=',round(t_m.pvalue,5))"
      ],
      "execution_count": null,
      "outputs": []
    },
    {
      "cell_type": "markdown",
      "metadata": {
        "id": "UaEbTzKMkTqz"
      },
      "source": [
        "Berechnung durch Formeln"
      ]
    },
    {
      "cell_type": "code",
      "metadata": {
        "id": "dCIim-_jnGsP"
      },
      "source": [
        "df['diff']=df['Zufriedenheit_neu']-df['Zufriedenheit_alt']\n",
        "Xd_mean = df['diff'].mean()\n",
        "print('Xd_mean\\t\\t\\t=',round(Xd_mean,2))\n",
        "Sd = df['diff'].std(ddof=1)\n",
        "print('Standardabweichung\\t=',round(Sd,2),'\\n')\n",
        "\n",
        "\n",
        "#Berechnung Teststatistik (empirischer Wert)\n",
        "td = (Xd_mean-0)/Sd*np.sqrt(n)\n",
        "print('t_empirisch\\t\\t=',round(td,2))\n",
        "\n",
        "#Berechnung kritischer Wert\n",
        "signifikanzniveau = 0.05\n",
        "t_kritisch = scipy.stats.t.ppf(1-signifikanzniveau/2, n-1)\n",
        "print('C\\t\\t\\t=',round(t_kritisch,2))"
      ],
      "execution_count": null,
      "outputs": []
    },
    {
      "cell_type": "markdown",
      "metadata": {
        "id": "k4PAT4FzoEdt"
      },
      "source": [
        "#**Mittelwerttest (t-Test): Unterschiede zwischen zwei Gruppen**"
      ]
    },
    {
      "cell_type": "markdown",
      "metadata": {
        "id": "WQ05zyPzoefm"
      },
      "source": [
        "Berechnung mit dem Package scipy.stats"
      ]
    },
    {
      "cell_type": "code",
      "metadata": {
        "id": "k_FByv-Qok8_"
      },
      "source": [
        "# #Bei gleichen Varianzen der Stichproben X und Y:\n",
        "# t_m = scipy.stats.ttest_ind(X,Y,equal_var=True)\n",
        "# print('Teststatistik t\\t=',t_m.statistic)\n",
        "# print('p-Wert\\t\\t=',t_m.pvalue)\n",
        "\n",
        "# #Bei ungleichen Varianzen der Stichproben X und Y (Welch-Test):\n",
        "# t_m = scipy.stats.ttest_ind(X,Y,equal_var=False)\n",
        "# print('Teststatistik t\\t=',t_m.statistic)\n",
        "# print('p-Wert\\t\\t=',t_m.pvalue)"
      ],
      "execution_count": null,
      "outputs": []
    },
    {
      "cell_type": "markdown",
      "metadata": {
        "id": "VclABMfpocYW"
      },
      "source": [
        "Berechnung durch Formeln"
      ]
    },
    {
      "cell_type": "code",
      "metadata": {
        "id": "oJsk8U8voDDP"
      },
      "source": [
        "# #Bei gleichen Varianzen der Stichproben X und Y:\n",
        "# n1 = len(X)\n",
        "# n2 = len(Y)\n",
        "# s1 = X.std(ddof=1)\n",
        "# s2 = Y.std(ddof=1)\n",
        "# t = (X.mean()-Y.mean())/np.sqrt((n1+n2)*((n1-1)*s1**2+(n2-1)*s2**2)/(n1*n2*(n1+n2-2)))\n",
        "# print('t_empirisch\\t\\t=',td)\n",
        "\n",
        "# signifikanzniveau = 0.05\n",
        "# t_kritisch = scipy.stats.t.ppf(1-signifikanzniveau/2, n1+n2-2)\n",
        "# print('C\\t\\t\\t=',t_kritisch)"
      ],
      "execution_count": null,
      "outputs": []
    },
    {
      "cell_type": "markdown",
      "metadata": {
        "id": "EhzY8tWhrsVj"
      },
      "source": [
        "# **ANOVA**"
      ]
    },
    {
      "cell_type": "code",
      "metadata": {
        "id": "3eLdc2mAuAKd"
      },
      "source": [
        "!pip install pingouin\n",
        "import pandas as pd\n",
        "import pingouin as pg"
      ],
      "execution_count": null,
      "outputs": []
    },
    {
      "cell_type": "code",
      "metadata": {
        "id": "rNvtpItQvMbY"
      },
      "source": [
        "df = pd.read_csv('https://raw.githubusercontent.com/JasperLS/EWF/main/datasets/VL_Anova.csv',index_col=0)"
      ],
      "execution_count": null,
      "outputs": []
    },
    {
      "cell_type": "code",
      "metadata": {
        "id": "lOPppG5YvRfJ"
      },
      "source": [
        "df"
      ],
      "execution_count": null,
      "outputs": []
    },
    {
      "cell_type": "code",
      "metadata": {
        "id": "j6zevkfxD4Iz"
      },
      "source": [
        "pg.anova(data=df, dv='VerkUnf', between='Lizenz', detailed=True,effsize='n2').round(3)"
      ],
      "execution_count": null,
      "outputs": []
    },
    {
      "cell_type": "code",
      "metadata": {
        "id": "vNUcqscKEejR"
      },
      "source": [
        "pg.ancova(data=df, dv='VerkUnf', covar='VerkUnfVorjahr', between='Lizenz',effsize='n2').round(3)"
      ],
      "execution_count": null,
      "outputs": []
    },
    {
      "cell_type": "markdown",
      "metadata": {
        "id": "pePHmc4CtzZi"
      },
      "source": [
        "# **Chi²-Test**\n"
      ]
    },
    {
      "cell_type": "code",
      "metadata": {
        "id": "0Qcdh_cFURJ0"
      },
      "source": [
        "from scipy.stats import  chi2_contingency"
      ],
      "execution_count": null,
      "outputs": []
    },
    {
      "cell_type": "code",
      "metadata": {
        "id": "OoLJF92Fq4uX"
      },
      "source": [
        "df = pd.read_csv('https://raw.githubusercontent.com/JasperLS/EWF/main/datasets/VL_chi2.csv',index_col=0)"
      ],
      "execution_count": null,
      "outputs": []
    },
    {
      "cell_type": "code",
      "metadata": {
        "id": "VajX9KQarMPM"
      },
      "source": [
        "df"
      ],
      "execution_count": null,
      "outputs": []
    },
    {
      "cell_type": "code",
      "metadata": {
        "id": "cfzMhvCDrb-9"
      },
      "source": [
        "df_dist = df.iloc[:-1,:-2].astype(int)"
      ],
      "execution_count": null,
      "outputs": []
    },
    {
      "cell_type": "code",
      "metadata": {
        "id": "GEcsuHg9Vd_8"
      },
      "source": [
        "g, p, dof, expctd = chi2_contingency(df)\n",
        "ddof = (df.shape[0]-1)*(df.shape[1]-1)\n",
        "signifikanzniveau = 0.01\n",
        "print('Prüfgröße Chi² \\t\\t=',round(g,2))\n",
        "print('Freiheitsgrade df \\t=  ', ddof)\n",
        "print('Kritischer Wert Chi² \\t= ', scipy.stats.chi2.ppf(1-signifikanzniveau, ddof).round(2))"
      ],
      "execution_count": null,
      "outputs": []
    },
    {
      "cell_type": "markdown",
      "metadata": {
        "id": "9UNRIOzvROGX"
      },
      "source": [
        "# **Korrelation**\n"
      ]
    },
    {
      "cell_type": "code",
      "metadata": {
        "id": "Hi22GOodRVqr"
      },
      "source": [
        "import matplotlib.pyplot as plt\n",
        "import pandas as pd\n",
        "df = pd.read_csv('https://raw.githubusercontent.com/JasperLS/EWF/main/datasets/VL_Korrelation.csv',index_col=0)\n",
        "df"
      ],
      "execution_count": null,
      "outputs": []
    },
    {
      "cell_type": "code",
      "metadata": {
        "id": "aZZHE5dO4ral"
      },
      "source": [
        "plt.scatter(df.loc['Zufriedenheit (x)',:],df.loc['Kundenbindung (y)',:])\n",
        "plt.xlabel(\"Zufriedenheit (x)\")\n",
        "plt.ylabel(\"Kundenbindung (y)\")\n",
        "plt.show()"
      ],
      "execution_count": null,
      "outputs": []
    },
    {
      "cell_type": "code",
      "metadata": {
        "id": "zkKDyFLa5j7B"
      },
      "source": [
        "r = df.loc['Zufriedenheit (x)',:].corr(df.loc['Kundenbindung (y)',:])\n",
        "print('Korrelation r \\t =',round(r,4))"
      ],
      "execution_count": null,
      "outputs": []
    },
    {
      "cell_type": "code",
      "metadata": {
        "id": "rpK-V_yz6F1g"
      },
      "source": [
        "from scipy.stats import pearsonr\n",
        "import numpy as np\n",
        "signifikanzniveau = 0.01\n",
        "\n",
        "r, p = pearsonr(df.loc['Zufriedenheit (x)',:],df.loc['Kundenbindung (y)',:])\n",
        "n = df.shape[1]\n",
        "t = r*np.sqrt((n-2)/(1-r**2))\n",
        "C = scipy.stats.t.ppf(1-signifikanzniveau/2, n-2)\n",
        "print('Korrelation r \\t\\t\\t =',round(r,2))\n",
        "print('Signifikanzniveau (p-Wert)\\t =',round(p,4))\n",
        "print('Teststatistik t \\t\\t =',round(t,2))\n",
        "print('C \\t\\t\\t\\t =',round(C,2))"
      ],
      "execution_count": null,
      "outputs": []
    },
    {
      "cell_type": "code",
      "metadata": {
        "id": "OaTIBXp_i1NH"
      },
      "source": [
        "import seaborn as sns\n",
        "sns.lmplot(x='Zufriedenheit (x)', y='Kundenbindung (y)', data=df.T);"
      ],
      "execution_count": null,
      "outputs": []
    },
    {
      "cell_type": "markdown",
      "metadata": {
        "id": "hyiUKEj6tnvO"
      },
      "source": [
        "# **Regression**"
      ]
    },
    {
      "cell_type": "code",
      "metadata": {
        "id": "gtrJm_hlGLbi"
      },
      "source": [
        "import pandas as pd\n",
        "import statsmodels.api as sm "
      ],
      "execution_count": null,
      "outputs": []
    },
    {
      "cell_type": "code",
      "metadata": {
        "id": "FsjVTGCfGVNv"
      },
      "source": [
        "df = pd.read_csv('https://raw.githubusercontent.com/JasperLS/EWF/main/datasets/VL_Regression.csv',index_col=0,encoding='utf-8')\n",
        "df.insert(1,'Konstante',1)"
      ],
      "execution_count": null,
      "outputs": []
    },
    {
      "cell_type": "code",
      "metadata": {
        "id": "7OFbQW-IRuut"
      },
      "source": [
        "mod = sm.OLS(df['Überstunden'], df[['Konstante','Alter']])\n",
        "res = mod.fit()\n",
        "print(res.summary())"
      ],
      "execution_count": null,
      "outputs": []
    },
    {
      "cell_type": "code",
      "metadata": {
        "id": "jtFMga_sKwQ_"
      },
      "source": [
        "mod = sm.OLS(df['Überstunden'], df[['Konstante','Motivation','Alter','Einkommen']])\n",
        "res = mod.fit()\n",
        "print(res.summary())"
      ],
      "execution_count": null,
      "outputs": []
    },
    {
      "cell_type": "markdown",
      "metadata": {
        "id": "mYzS15B0-wsJ"
      },
      "source": [
        "**Standardisierte Koeffizienten durch Standardisieren der Eingangsdaten**"
      ]
    },
    {
      "cell_type": "code",
      "metadata": {
        "id": "l8v5XT0VJwMI"
      },
      "source": [
        "df = (df-df.mean())/df.std()\n",
        "df['Konstante'] = 1\n",
        "print(sm.OLS(df['Überstunden'], df[['Konstante','Alter','Einkommen','Motivation']]).fit().summary())\n"
      ],
      "execution_count": null,
      "outputs": []
    }
  ]
}