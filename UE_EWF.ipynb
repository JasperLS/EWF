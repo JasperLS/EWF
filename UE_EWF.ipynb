{
  "nbformat": 4,
  "nbformat_minor": 0,
  "metadata": {
    "colab": {
      "name": "UE_EWF.ipynb",
      "private_outputs": true,
      "provenance": [],
      "collapsed_sections": [],
      "include_colab_link": true
    },
    "kernelspec": {
      "name": "python3",
      "display_name": "Python 3"
    }
  },
  "cells": [
    {
      "cell_type": "markdown",
      "metadata": {
        "id": "view-in-github",
        "colab_type": "text"
      },
      "source": [
        "<a href=\"https://colab.research.google.com/github/JasperLS/EWF/blob/main/UE_EWF.ipynb\" target=\"_parent\"><img src=\"https://colab.research.google.com/assets/colab-badge.svg\" alt=\"Open In Colab\"/></a>"
      ]
    },
    {
      "cell_type": "markdown",
      "metadata": {
        "id": "OMP55HrDsuBL"
      },
      "source": [
        "## **Übung 5**"
      ]
    },
    {
      "cell_type": "code",
      "metadata": {
        "id": "hjBwkQIGldJa"
      },
      "source": [
        "pip install researchpy"
      ],
      "execution_count": null,
      "outputs": []
    },
    {
      "cell_type": "code",
      "metadata": {
        "id": "iEci1_FTnRIW"
      },
      "source": [
        "import pandas as pd\n",
        "import researchpy as rp"
      ],
      "execution_count": null,
      "outputs": []
    },
    {
      "cell_type": "code",
      "metadata": {
        "id": "tCLJ-m_Qm4-V"
      },
      "source": [
        "# Einlesen der Datei\n",
        "df = pd.read_csv('https://raw.githubusercontent.com/JasperLS/EWF/main/datasets/UE_Bier.csv',index_col=0)"
      ],
      "execution_count": null,
      "outputs": []
    },
    {
      "cell_type": "code",
      "metadata": {
        "id": "PL8c8OqFeoee"
      },
      "source": [
        "df.sample()"
      ],
      "execution_count": null,
      "outputs": []
    },
    {
      "cell_type": "code",
      "metadata": {
        "id": "JY3Wvc60nM01"
      },
      "source": [
        "# t-Test von Geschlecht auf Bierausgaben ausführen\n",
        "summary_a, results_a = rp.ttest(group1 = df.loc[df['männlich'] == 1, 'bierausgaben'], group1_name = 'männlich', \n",
        "         group2 = df.loc[df['männlich'] == 0, 'bierausgaben'], group2_name = 'weiblich')"
      ],
      "execution_count": null,
      "outputs": []
    },
    {
      "cell_type": "code",
      "metadata": {
        "id": "ZI5bVSVLOEMt"
      },
      "source": [
        "summary_a"
      ],
      "execution_count": null,
      "outputs": []
    },
    {
      "cell_type": "code",
      "metadata": {
        "id": "VSKB_o6gOcrr"
      },
      "source": [
        "results_a"
      ],
      "execution_count": null,
      "outputs": []
    },
    {
      "cell_type": "code",
      "metadata": {
        "id": "TQUPGzC9oP98"
      },
      "source": [
        "# t-Test von Bildungsgrad auf Einkommen ausführen\n",
        "summary_b, results_b = rp.ttest(group1 = df.loc[df.bildungsgrad == 1,'einkommen'], group1_name = 'bildungsgrad = 1', \n",
        "         group2 = df.loc[df.bildungsgrad == 4,'einkommen'], group2_name = 'bildungsgrad = 4')"
      ],
      "execution_count": null,
      "outputs": []
    },
    {
      "cell_type": "code",
      "metadata": {
        "id": "dgPu-TltHEPB"
      },
      "source": [
        "summary_b"
      ],
      "execution_count": null,
      "outputs": []
    },
    {
      "cell_type": "code",
      "metadata": {
        "id": "6vVT19hJPrsu"
      },
      "source": [
        "results_b"
      ],
      "execution_count": null,
      "outputs": []
    },
    {
      "cell_type": "markdown",
      "metadata": {
        "id": "5_bVw3v5x0iB"
      },
      "source": [
        "## **Übung 6**\n"
      ]
    },
    {
      "cell_type": "code",
      "metadata": {
        "id": "M5DZ66bJnw4u"
      },
      "source": [
        "pip install bioinfokit"
      ],
      "execution_count": null,
      "outputs": []
    },
    {
      "cell_type": "code",
      "metadata": {
        "id": "10xqzFtcx4pE"
      },
      "source": [
        "import pandas as pd\n",
        "import scipy\n",
        "from bioinfokit.analys import stat\n",
        "from statsmodels.formula.api import ols\n",
        "from statsmodels.stats.anova import anova_lm"
      ],
      "execution_count": null,
      "outputs": []
    },
    {
      "cell_type": "code",
      "metadata": {
        "id": "CtE7BwZeySNU"
      },
      "source": [
        "df = pd.read_csv('https://raw.githubusercontent.com/JasperLS/EWF/main/datasets/UE_Bier.csv',index_col=0)"
      ],
      "execution_count": null,
      "outputs": []
    },
    {
      "cell_type": "code",
      "metadata": {
        "id": "88nUoAspG5bB"
      },
      "source": [
        "# Erstellung einer Pivot Tabelle mit Statistiken\n",
        "df.loc[:,['einkommen','bildungsgrad']].groupby('bildungsgrad').agg(['count','mean','std','sem'])"
      ],
      "execution_count": null,
      "outputs": []
    },
    {
      "cell_type": "code",
      "metadata": {
        "id": "Hy415nXhJUp4"
      },
      "source": [
        "# Abhängig vom Typ der Variablen, müssen diese noch explizit in kategoriale Variablen übersetzt werden! \n",
        "df['bildungsgrad_cat'] = df.bildungsgrad.astype('category')\n",
        "print(df.bildungsgrad.dtype)\n",
        "print(df.bildungsgrad_cat.dtype)"
      ],
      "execution_count": null,
      "outputs": []
    },
    {
      "cell_type": "code",
      "metadata": {
        "id": "57dYXj5mJkvQ"
      },
      "source": [
        "# Alternative Lösung, die nur reguläre statsmodels Packages verwendet\n",
        "# mod = ols('einkommen ~ bildungsgrad_cat', data = df).fit()\n",
        "# anova_table = anova_lm(mod, typ=2)\n",
        "# anova_table"
      ],
      "execution_count": null,
      "outputs": []
    },
    {
      "cell_type": "code",
      "metadata": {
        "id": "e0oBYdwcLb7P"
      },
      "source": [
        "# Durchführung der ANOVA\n",
        "res = stat()\n",
        "res.anova_stat(df, res_var='einkommen', anova_model='einkommen ~ bildungsgrad_cat')\n",
        "res.anova_summary"
      ],
      "execution_count": null,
      "outputs": []
    },
    {
      "cell_type": "code",
      "metadata": {
        "id": "EjNO07m9oPQY"
      },
      "source": [
        "# Erstellung von Bins (Gruppierung der Altervariablen)\n",
        "bins = [0,26,31,36,41,46,51,56,61,66,110]\n",
        "labels = ['<=25','26-30','31-35','36-40','41-45','46-50','51-55','56-60','61-65', '66+']\n",
        "\n",
        "df['age Group'] = pd.cut(df['alter'], bins= bins, labels=labels, right=False)\n",
        "df.head()"
      ],
      "execution_count": null,
      "outputs": []
    },
    {
      "cell_type": "code",
      "metadata": {
        "id": "4O7eWwY4xO6G"
      },
      "source": [
        "# Erstellung eines einfachen Pivot Tables\n",
        "contingency = pd.crosstab(df['age Group'], df['männlich'])\n",
        "print(contingency)"
      ],
      "execution_count": null,
      "outputs": []
    },
    {
      "cell_type": "code",
      "metadata": {
        "id": "GFyetUh6xgxt"
      },
      "source": [
        "# Durchführung des Chi-2 Tests\n",
        "g, p, dof, expctd = scipy.stats.chi2_contingency(contingency)\n",
        "print('Chi-square = ' + str(g) + '\\ndf = ' + str(dof) + '\\nSig. = ' + str(p))"
      ],
      "execution_count": null,
      "outputs": []
    },
    {
      "cell_type": "markdown",
      "metadata": {
        "id": "nXqtpWfH1b6z"
      },
      "source": [
        "## **Übung 7**\n"
      ]
    },
    {
      "cell_type": "code",
      "metadata": {
        "id": "XbbHG9QU1ghI"
      },
      "source": [
        "import pandas as pd\n",
        "from scipy.stats import pearsonr\n",
        "import numpy as np\n",
        "from statsmodels.formula.api import ols"
      ],
      "execution_count": null,
      "outputs": []
    },
    {
      "cell_type": "code",
      "metadata": {
        "id": "q6_36eUD1lSA"
      },
      "source": [
        "df = pd.read_csv('https://raw.githubusercontent.com/JasperLS/EWF/main/datasets/UE_Bier.csv',index_col=0)\n",
        "df = df.drop(['Hauptschule','Realschule','Gymnasium','Studium'],axis=1)"
      ],
      "execution_count": null,
      "outputs": []
    },
    {
      "cell_type": "code",
      "metadata": {
        "id": "wFwI6df-DMRE"
      },
      "source": [
        "# Erstellung der Korrelationstabelle\n",
        "df.corr().iloc[:5,:5]"
      ],
      "execution_count": null,
      "outputs": []
    },
    {
      "cell_type": "code",
      "metadata": {
        "id": "F1CzCP2a7abq"
      },
      "source": [
        "# Erstellung einer Funktion, die immer den zugehörigen p-Value zurückgibt\n",
        "def pearsonr_pval(x,y):\n",
        "  return pearsonr(x,y)[1]"
      ],
      "execution_count": null,
      "outputs": []
    },
    {
      "cell_type": "code",
      "metadata": {
        "id": "a8YhXEYuBP7z"
      },
      "source": [
        "df.corr(method=pearsonr_pval).iloc[:5,:5].round(3)"
      ],
      "execution_count": null,
      "outputs": []
    },
    {
      "cell_type": "code",
      "metadata": {
        "id": "fjJbWM5QQBx7"
      },
      "source": [
        "# Dieser Code generiert eine typische Korrelationsmatrix inklusive Sternchen zum Anzeigen des p-Values. Der Code ist etwas komplexer und nicht klausurrelevant\n",
        "rho = df.corr()\n",
        "pval = df.corr(method=pearsonr_pval) - np.eye(*rho.shape)\n",
        "p = pval.applymap(lambda x: ''.join(['*' for t in [0.01,0.05,0.1] if x<=t]))\n",
        "(rho.round(3).astype(str) + p).iloc[:5,:5]"
      ],
      "execution_count": null,
      "outputs": []
    },
    {
      "cell_type": "code",
      "metadata": {
        "id": "sI3wmIqu9b26"
      },
      "source": [
        "# Durchführung einer Regression\n",
        "mod = ols('bierausgaben ~ alter', data = df)\n",
        "res = mod.fit()\n",
        "print(res.summary())"
      ],
      "execution_count": null,
      "outputs": []
    },
    {
      "cell_type": "code",
      "metadata": {
        "id": "99jcLPFX2qzp"
      },
      "source": [
        "mod = ols('bierausgaben ~ einkommen', data = df)\n",
        "res = mod.fit()\n",
        "print(res.summary())"
      ],
      "execution_count": null,
      "outputs": []
    },
    {
      "cell_type": "code",
      "metadata": {
        "id": "_oG7RMU9_Hhx"
      },
      "source": [
        "mod = ols('einkommen ~ bierausgaben', data = df)\n",
        "res = mod.fit()\n",
        "print(res.summary())"
      ],
      "execution_count": null,
      "outputs": []
    },
    {
      "cell_type": "markdown",
      "metadata": {
        "id": "5F68U40IFt7h"
      },
      "source": [
        "## **Übung 8**"
      ]
    },
    {
      "cell_type": "code",
      "metadata": {
        "id": "aoVYdgzFFv--"
      },
      "source": [
        "import pandas as pd\n",
        "import numpy as np\n",
        "import statsmodels.api as sm \n",
        "from scipy.stats import pearsonr\n",
        "from statsmodels.stats.outliers_influence import variance_inflation_factor # Ggf. muss man die Runtime Komplett zurücksetzen, damit dieser Import funktioniert"
      ],
      "execution_count": null,
      "outputs": []
    },
    {
      "cell_type": "markdown",
      "metadata": {
        "id": "SYDJd_LdiW--"
      },
      "source": [
        "#### Teil 1 - Mensa"
      ]
    },
    {
      "cell_type": "code",
      "metadata": {
        "id": "YEinAFtv5-2e"
      },
      "source": [
        "#Teil 1 \n",
        "df_mensa = pd.read_csv('https://raw.githubusercontent.com/JasperLS/EWF/main/datasets/UE_Mensa.csv',index_col=0)"
      ],
      "execution_count": null,
      "outputs": []
    },
    {
      "cell_type": "code",
      "metadata": {
        "id": "c0JT-kdCeOFY"
      },
      "source": [
        "# Ergänzung einer Konstanten\n",
        "df_mensa['Konstante'] = 1"
      ],
      "execution_count": null,
      "outputs": []
    },
    {
      "cell_type": "code",
      "metadata": {
        "id": "msdI5GY67KYI"
      },
      "source": [
        "df_mensa.sample()"
      ],
      "execution_count": null,
      "outputs": []
    },
    {
      "cell_type": "code",
      "metadata": {
        "id": "eMbXbdqQ6MQK"
      },
      "source": [
        "# Auswahl der un-/abhängigen Variablen\n",
        "unab_var = ['Konstante','Männlich', 'Essensausgaben_pro_Monat', 'Essensvielfalt', 'Essensqualität', 'Standort1', 'Standort2']\n",
        "abh_var = 'Zufriedenheit_Mensa'"
      ],
      "execution_count": null,
      "outputs": []
    },
    {
      "cell_type": "code",
      "metadata": {
        "id": "04hzraLg8G-f"
      },
      "source": [
        "# Durchführung der Regression\n",
        "mod = sm.OLS(df_mensa.loc[:,abh_var], df_mensa.loc[:,unab_var])\n",
        "res = mod.fit()\n",
        "print(res.summary())"
      ],
      "execution_count": null,
      "outputs": []
    },
    {
      "cell_type": "markdown",
      "metadata": {
        "id": "qf3AC7RWiUSD"
      },
      "source": [
        "#### Teil 2 - Bier"
      ]
    },
    {
      "cell_type": "code",
      "metadata": {
        "id": "4YcgN25pGEXT"
      },
      "source": [
        "#Teil 2\n",
        "df = pd.read_csv('https://raw.githubusercontent.com/JasperLS/EWF/main/datasets/UE_Bier.csv',index_col=0)\n",
        "df['Konstante'] = 1"
      ],
      "execution_count": null,
      "outputs": []
    },
    {
      "cell_type": "code",
      "metadata": {
        "id": "yoN2MwlNFvSN"
      },
      "source": [
        "# Regression mit einkommen\n",
        "unab_var_b1 = ['Konstante', 'einkommen', 'alter', 'männlich', 'Realschule',  'Gymnasium', 'Studium']\n",
        "abh_var_b = 'bierausgaben'\n",
        "mod = sm.OLS(df.loc[:,abh_var_b], df.loc[:,unab_var_b1])\n",
        "res = mod.fit()\n",
        "print(res.summary())\n",
        "\n",
        "# Regression ohne Einkommen\n",
        "unab_var_b2 = ['Konstante','alter', 'männlich', 'Realschule',  'Gymnasium', 'Studium']\n",
        "mod = sm.OLS(df.loc[:,abh_var_b], df.loc[:,unab_var_b2])\n",
        "res = mod.fit()\n",
        "print(res.summary())"
      ],
      "execution_count": null,
      "outputs": []
    },
    {
      "cell_type": "code",
      "metadata": {
        "id": "XYM5z2DiGSYb"
      },
      "source": [
        "df.corr().iloc[:8,:8].round(3)"
      ],
      "execution_count": null,
      "outputs": []
    },
    {
      "cell_type": "code",
      "metadata": {
        "id": "nAftRhZdGyCI"
      },
      "source": [
        "def pearsonr_pval(x,y):\n",
        "  return pearsonr(x,y)[1]"
      ],
      "execution_count": null,
      "outputs": []
    },
    {
      "cell_type": "code",
      "metadata": {
        "id": "NYx8Zqc5G5Qy"
      },
      "source": [
        "df.corr(method=pearsonr_pval).iloc[:8,:8].round(3)"
      ],
      "execution_count": null,
      "outputs": []
    },
    {
      "cell_type": "code",
      "metadata": {
        "id": "DYUMAGohXxbZ"
      },
      "source": [
        "# Dieser Code generiert eine typische Korrelationsmatrix inklusive Sternchen zum Anzeigen des p-Values. Der Code ist etwas komplexer und nicht klausurrelevant\n",
        "rho = df.corr()\n",
        "pval = df.corr(method=pearsonr_pval) - np.eye(*rho.shape)\n",
        "p = pval.applymap(lambda x: ''.join(['*' for t in [0.01,0.05,0.1] if x<=t]))\n",
        "(rho.round(3).astype(str) + p).iloc[:8,:8]"
      ],
      "execution_count": null,
      "outputs": []
    },
    {
      "cell_type": "code",
      "metadata": {
        "id": "VSrKFYsAYPpx"
      },
      "source": [
        "# Diese Funktion gibt Multikollinearitätswerte aufbereitet zurück\n",
        "def multicollinearity(X):\n",
        "    vif = pd.DataFrame()\n",
        "    vif[\"VIF_factor\"] = [variance_inflation_factor(X.values, i) for i in range(X.shape[1])]\n",
        "    vif[\"Tolerance\"] = 1/vif[\"VIF_factor\"] \n",
        "    vif.insert(0,'Variable',X.columns)\n",
        "    return vif"
      ],
      "execution_count": null,
      "outputs": []
    },
    {
      "cell_type": "code",
      "metadata": {
        "id": "xY9wH7F-ZNmb"
      },
      "source": [
        "# Aufruf der Funktionm, um VIF Werte und Toleranzen zu erhalten\n",
        "multicollinearity(df[unab_var_b1]).round(3)"
      ],
      "execution_count": null,
      "outputs": []
    },
    {
      "cell_type": "code",
      "metadata": {
        "id": "Q6UBYUScbUU6"
      },
      "source": [
        "multicollinearity(df[unab_var_b2]).round(3)"
      ],
      "execution_count": null,
      "outputs": []
    },
    {
      "cell_type": "markdown",
      "metadata": {
        "id": "hyiUKEj6tnvO"
      },
      "source": [
        "# **Übung 9**"
      ]
    },
    {
      "cell_type": "code",
      "metadata": {
        "id": "gtrJm_hlGLbi"
      },
      "source": [
        "import pandas as pd\n",
        "import statsmodels.api as sm "
      ],
      "execution_count": null,
      "outputs": []
    },
    {
      "cell_type": "code",
      "metadata": {
        "id": "FsjVTGCfGVNv"
      },
      "source": [
        "# Einlesen der Datei 'bier_conjoint_dataset.csv' und hinzufügen einer Spalte 'Konstante' mit 1sen als Zellwerte\n",
        "df = pd.read_csv('https://raw.githubusercontent.com/JasperLS/EWF/main/datasets/UE_Bier_Conjoint.csv',index_col=0)\n",
        "df['Konstante'] = 1"
      ],
      "execution_count": null,
      "outputs": []
    },
    {
      "cell_type": "code",
      "metadata": {
        "id": "ZTHMdLpR17-1"
      },
      "source": [
        "df.head()"
      ],
      "execution_count": null,
      "outputs": []
    },
    {
      "cell_type": "code",
      "metadata": {
        "id": "5gWYCnCfJrpj"
      },
      "source": [
        "# Festlegen der abhängigen und unabhängigen Variablen\n",
        "unabh_variablen = ['Konstante','Dunkelbier','Weissbier','NullProzent','Plastikflasche','Glasflasche','FünfzigCent','FünfundsiebzigCent']\n",
        "abh_variable = 'Preference'"
      ],
      "execution_count": null,
      "outputs": []
    },
    {
      "cell_type": "code",
      "metadata": {
        "id": "jtFMga_sKwQ_"
      },
      "source": [
        "# Regression ausführen\n",
        "mod = sm.OLS(df.loc[:,abh_variable], df.loc[:,unabh_variablen])\n",
        "res = mod.fit()\n",
        "print(res.summary())"
      ],
      "execution_count": null,
      "outputs": []
    }
  ]
}